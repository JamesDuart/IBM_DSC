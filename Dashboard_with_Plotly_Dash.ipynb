{
  "nbformat": 4,
  "nbformat_minor": 0,
  "metadata": {
    "colab": {
      "provenance": [],
      "authorship_tag": "ABX9TyMrwet7B8MJ3VcUk98X42Yu",
      "include_colab_link": true
    },
    "kernelspec": {
      "name": "python3",
      "display_name": "Python 3"
    },
    "language_info": {
      "name": "python"
    }
  },
  "cells": [
    {
      "cell_type": "markdown",
      "metadata": {
        "id": "view-in-github",
        "colab_type": "text"
      },
      "source": [
        "<a href=\"https://colab.research.google.com/github/JamesDuart/IBM_DSC/blob/main/Dashboard_with_Plotly_Dash.ipynb\" target=\"_parent\"><img src=\"https://colab.research.google.com/assets/colab-badge.svg\" alt=\"Open In Colab\"/></a>"
      ]
    },
    {
      "cell_type": "code",
      "execution_count": null,
      "metadata": {
        "id": "cd6kUF8K1xlZ"
      },
      "outputs": [],
      "source": [
        "# Import required libraries\n",
        "import pandas as pd\n",
        "import dash\n",
        "import dash_html_components as html\n",
        "import dash_core_components as dcc\n",
        "from dash.dependencies import Input, Output\n",
        "import plotly.express as px"
      ]
    },
    {
      "cell_type": "code",
      "source": [
        "# Read the airline data into pandas dataframe\n",
        "spacex_df = pd.read_csv(\"spacex_launch_dash.csv\")\n",
        "max_payload = spacex_df['Payload Mass (kg)'].max()\n",
        "min_payload = spacex_df['Payload Mass (kg)'].min()\n"
      ],
      "metadata": {
        "id": "J-PnGrDd1zmL"
      },
      "execution_count": null,
      "outputs": []
    },
    {
      "cell_type": "code",
      "source": [
        "# Create a dash application\n",
        "app = dash.Dash(__name__)\n",
        "\n",
        "# Create an app layout\n",
        "app.layout = html.Div(children=[html.H1('SpaceX Launch Records Dashboard',\n",
        "                                        style={'textAlign': 'center', 'color': '#503D36',\n",
        "                                               'font-size': 40}),\n",
        "                                # TASK 1: Add a dropdown list to enable Launch Site selection\n",
        "                                # The default select value is for ALL sites\n",
        "                                # dcc.Dropdown(id='site-dropdown',...)\n",
        "                                html.Br(),\n",
        "\n",
        "                                # TASK 2: Add a pie chart to show the total successful launches count for all sites\n",
        "                                # If a specific launch site was selected, show the Success vs. Failed counts for the site\n",
        "                                html.Div(dcc.Graph(id='success-pie-chart')),\n",
        "                                html.Br(),\n",
        "\n",
        "                                html.P(\"Payload range (Kg):\"),\n",
        "                                # TASK 3: Add a slider to select payload range\n",
        "                                #dcc.RangeSlider(id='payload-slider',...)\n",
        "\n",
        "                                # TASK 4: Add a scatter chart to show the correlation between payload and launch success\n",
        "                                html.Div(dcc.Graph(id='success-payload-scatter-chart')),\n",
        "                                ])\n"
      ],
      "metadata": {
        "id": "UUuSF69g13mb"
      },
      "execution_count": null,
      "outputs": []
    },
    {
      "cell_type": "code",
      "source": [
        "# TASK 2:\n",
        "# Add a callback function for `site-dropdown` as input, `success-pie-chart` as output\n",
        "@app.callback(\n",
        "    Output(\n",
        "        component_id='success-pie-chart',\n",
        "        component_property='figure'\n",
        "    ),\n",
        "    Input(\n",
        "        component_id='site-dropdown',\n",
        "        component_property='value'\n",
        "    )\n",
        ")\n",
        "def get_pie_chart(selected_site):\n",
        "    if selected_site == 'ALL':\n",
        "        data = spacex_df[spacex_df['class'] == 1]\n",
        "        names = 'Launch Site'\n",
        "        title='Total successful launches by site'\n",
        "    else:\n",
        "        data = spacex_df[spacex_df['Launch Site'] == selected_site]\n",
        "        names = 'class'\n",
        "        title=f'Total succesful launches for site {selected_site}'\n",
        "    return px.pie(data, names=names, title=title)\n"
      ],
      "metadata": {
        "id": "1fC03F0R16R5"
      },
      "execution_count": null,
      "outputs": []
    },
    {
      "cell_type": "code",
      "source": [
        "# TASK 4:\n",
        "# Add a callback function for `site-dropdown` and `payload-slider` as inputs, `success-payload-scatter-chart` as output\n",
        "@app.callback(\n",
        "    Output(\n",
        "        component_id='success-payload-scatter-chart',\n",
        "        component_property='figure'\n",
        "    ),\n",
        "    [\n",
        "        Input(\n",
        "            component_id='site-dropdown',\n",
        "            component_property='value'\n",
        "        ),\n",
        "        Input(\n",
        "            component_id=\"payload-slider\",\n",
        "            component_property=\"value\"\n",
        "        )\n",
        "    ]\n",
        ")\n",
        "def get_scatter_chart(selected_site, selected_payload_range):\n",
        "    low, high = selected_payload_range\n",
        "    payload_mask = (spacex_df['Payload Mass (kg)'] > low) & (spacex_df['Payload Mass (kg)'] < high)\n",
        "    if selected_site == 'ALL':\n",
        "        filtered_df = spacex_df[payload_mask]\n",
        "    else:\n",
        "        filtered_df = spacex_df[payload_mask]\n",
        "        filtered_df = filtered_df.loc[filtered_df['Launch Site'] == selected_site]\n",
        "    return px.scatter(\n",
        "            filtered_df,\n",
        "            x='Payload Mass (kg)',\n",
        "            y='class',\n",
        "            color='Booster Version',\n",
        "            hover_data=['Payload Mass (kg)']\n",
        "        )"
      ],
      "metadata": {
        "id": "NcXBSdsl184b"
      },
      "execution_count": null,
      "outputs": []
    },
    {
      "cell_type": "code",
      "source": [
        "# Run the app\n",
        "if __name__ == '__main__':\n",
        "    app.run_server()"
      ],
      "metadata": {
        "id": "SxrDTBZr1-Zb"
      },
      "execution_count": null,
      "outputs": []
    }
  ]
}